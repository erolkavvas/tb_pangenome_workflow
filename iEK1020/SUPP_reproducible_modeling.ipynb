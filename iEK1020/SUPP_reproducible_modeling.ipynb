{
 "cells": [
  {
   "cell_type": "code",
   "execution_count": 76,
   "metadata": {
    "scrolled": true
   },
   "outputs": [],
   "source": [
    "import cobra\n",
    "from cobra.manipulation import remove_genes\n",
    "from cobra import Model, Reaction, Metabolite\n",
    "from cobra.flux_analysis import \\\n",
    "    single_gene_deletion, single_reaction_deletion, \\\n",
    "    double_gene_deletion, double_reaction_deletion\n",
    "import math\n",
    "import pandas as pd\n",
    "import sys\n",
    "import matplotlib.pyplot as plt\n",
    "# sys.path.append('/home/user/notebook/erol/TB Project/Modules')\n",
    "# from model_troubleshooting import *\n",
    "from cobra.flux_analysis import production_envelope\n",
    "from cobra.flux_analysis import sample\n",
    "import matplotlib\n",
    "import numpy as np"
   ]
  },
  {
   "cell_type": "markdown",
   "metadata": {},
   "source": [
    "This notebook was run using cobra version 0.5.11"
   ]
  },
  {
   "cell_type": "code",
   "execution_count": 77,
   "metadata": {
    "scrolled": true
   },
   "outputs": [
    {
     "name": "stdout",
     "output_type": "stream",
     "text": [
      "0.6.1\n"
     ]
    }
   ],
   "source": [
    "print cobra.__version__"
   ]
  },
  {
   "cell_type": "markdown",
   "metadata": {},
   "source": [
    "### What you need to run this notebook...\n",
    "1. _iEK1019_ in json format and located in the same folder as this notebook.\n",
    "2. Griffin Essentiality data"
   ]
  },
  {
   "cell_type": "markdown",
   "metadata": {},
   "source": [
    "# Load _iEK1020_\n",
    "Although the model is far from perfect, we believe that _iEK1019_ is a step in the right direction."
   ]
  },
  {
   "cell_type": "code",
   "execution_count": 78,
   "metadata": {},
   "outputs": [],
   "source": [
    "model_iEK = cobra.io.load_json_model(\"iEK1020.json\")"
   ]
  },
  {
   "cell_type": "code",
   "execution_count": 79,
   "metadata": {},
   "outputs": [
    {
     "name": "stdout",
     "output_type": "stream",
     "text": [
      "# of reactions 1211\n",
      "# of metabolites 998\n",
      "# of genes 1020\n"
     ]
    }
   ],
   "source": [
    "print \"# of reactions\", len(model_iEK.reactions)\n",
    "print \"# of metabolites\", len(model_iEK.metabolites)\n",
    "print \"# of genes\", len(model_iEK.genes)"
   ]
  },
  {
   "cell_type": "code",
   "execution_count": 80,
   "metadata": {},
   "outputs": [],
   "source": [
    "# for react in model_iEK_before.reactions:\n",
    "#     if react not in model_iEK.reactions:\n",
    "#         print react, react.reaction, react.gene_reaction_rule"
   ]
  },
  {
   "cell_type": "code",
   "execution_count": 81,
   "metadata": {},
   "outputs": [
    {
     "data": {
      "text/plain": [
       "u'iEK1020'"
      ]
     },
     "execution_count": 81,
     "metadata": {},
     "output_type": "execute_result"
    }
   ],
   "source": [
    "model_iEK.id"
   ]
  },
  {
   "cell_type": "markdown",
   "metadata": {},
   "source": [
    "# Check default media condition\n",
    "- Should be initalized to approximate Middlebrook 7H10 with Acetate as the carbon source as described in _Eoh and Rhee; PNAS 2014_. Although not used in this study, m7H10 with acetate has been used in numerous papers and thus provides a good media intialization."
   ]
  },
  {
   "cell_type": "code",
   "execution_count": 82,
   "metadata": {},
   "outputs": [
    {
     "data": {
      "text/plain": [
       "{u'EX_ac': 10,\n",
       " u'EX_btn': 1,\n",
       " u'EX_ca2': 1000.0,\n",
       " u'EX_cit': 1.0,\n",
       " u'EX_cl': 1000.0,\n",
       " u'EX_co2': 1000,\n",
       " u'EX_cu2': 1000.0,\n",
       " u'EX_fe2': 1000.0,\n",
       " u'EX_fe3': 1000.0,\n",
       " u'EX_glu_L': 1.0,\n",
       " u'EX_h': 1000,\n",
       " u'EX_h2co3': 1000,\n",
       " u'EX_k': 1000,\n",
       " u'EX_mg2': 1000.0,\n",
       " u'EX_mobd': 1000,\n",
       " u'EX_na1': 1000,\n",
       " u'EX_nh4': 20,\n",
       " u'EX_o2': 20,\n",
       " u'EX_pi': 1000,\n",
       " u'EX_pydxn': 1,\n",
       " u'EX_so4': 1000}"
      ]
     },
     "execution_count": 82,
     "metadata": {},
     "output_type": "execute_result"
    }
   ],
   "source": [
    "model_iEK.medium"
   ]
  },
  {
   "cell_type": "markdown",
   "metadata": {},
   "source": [
    "# Check FBA solution\n",
    "Growth should be about 0.017 mmol/g DW/ hr"
   ]
  },
  {
   "cell_type": "code",
   "execution_count": 83,
   "metadata": {},
   "outputs": [
    {
     "data": {
      "text/plain": [
       "0.01692413778583187"
      ]
     },
     "execution_count": 83,
     "metadata": {},
     "output_type": "execute_result"
    }
   ],
   "source": [
    "model_iEK.optimize().f"
   ]
  },
  {
   "cell_type": "markdown",
   "metadata": {},
   "source": [
    "# Check Mass Balance\n",
    "- Exchange reactions are taken out.\n",
    "- Biomass reactions are taken out."
   ]
  },
  {
   "cell_type": "code",
   "execution_count": 84,
   "metadata": {},
   "outputs": [
    {
     "name": "stdout",
     "output_type": "stream",
     "text": [
      "34\n"
     ]
    }
   ],
   "source": [
    "# print len(cobra.manipulation.validate.check_mass_balance(model_iEK).keys())\n",
    "mass_bal_metabs, mass_bal_reacts = [], []\n",
    "for react_id, mass_bal in cobra.manipulation.validate.check_mass_balance(model_iEK).iteritems():\n",
    "    \n",
    "    # ------ Don't count exchange reactions and biomass functions -----\n",
    "    if str(react_id)[:3]!=\"EX_\" and \"biomass\" not in str(react_id):\n",
    "        rxn_metabs = [str(x.id) for x in model_iEK.reactions.get_by_id(react_id.id).metabolites]\n",
    "        mass_bal_metabs.extend(rxn_metabs)\n",
    "        mass_bal_reacts.append(str(react_id))\n",
    "        # print str(react_id), mass_bal, react_id.reaction, react_id.gene_reaction_rule\n",
    "\n",
    "print len(mass_bal_reacts)"
   ]
  },
  {
   "cell_type": "code",
   "execution_count": 85,
   "metadata": {},
   "outputs": [
    {
     "name": "stdout",
     "output_type": "stream",
     "text": [
      "['FAD_9', 'FAD_10', 'FAD_11', 'FAD_12', 'FAD_13', 'NMO', 'FAD_14', 'FAD_15', 'FAD_16', 'MBTA1', 'FAD_19', 'FAD_20', 'FAD_21', 'FAD_22', 'FAD_24', 'FAD_25', 'FAD_26', 'FAD_27', 'MME', 'FAD_1', 'FAD_2', 'FAD_3', 'MMM2r', 'FAD_4', 'PRCOA1', 'FAD_5', 'VIUB', 'FAD_6', 'FADD3', 'FAD_7', 'PKS121', 'FAD_23', 'FAD_8', 'FADD17']\n"
     ]
    }
   ],
   "source": [
    "print mass_bal_reacts  "
   ]
  },
  {
   "cell_type": "markdown",
   "metadata": {},
   "source": [
    "Most of these are in the two FAD pathways which are independent of the rest of the model. Furthermore, these reactions do contain metabolites that lack both names, IDs, and formulas (I just need to spend a couple hours adding formulas to the metabolites). Not looking at these, only 9 reactions are unbalanced in the model."
   ]
  },
  {
   "cell_type": "code",
   "execution_count": 86,
   "metadata": {},
   "outputs": [
    {
     "name": "stdout",
     "output_type": "stream",
     "text": [
      "9\n"
     ]
    }
   ],
   "source": [
    "# Number of reactions not mass balanced. 4 of these have artifical metabolites (i.e. such as 0.0001 cobalamin) and\n",
    "\n",
    "# thus cannot be mass balanced - perhaps I should remove said artifical instances.\n",
    "\n",
    "print len([x for x in mass_bal_reacts if \"FAD_\" not in x])"
   ]
  },
  {
   "cell_type": "markdown",
   "metadata": {},
   "source": [
    "# Look at Blocked Reactions\n",
    "Note that it's ok for many reactions to be blocked because the pathway may be incomplete or the ending metabolite has no way to leave the system."
   ]
  },
  {
   "cell_type": "code",
   "execution_count": 87,
   "metadata": {},
   "outputs": [
    {
     "name": "stdout",
     "output_type": "stream",
     "text": [
      "161\n"
     ]
    }
   ],
   "source": [
    "blocked_reacts = cobra.flux_analysis.variability.find_blocked_reactions(model_iEK, \n",
    "                                                                        reaction_list=None, \n",
    "                                                                        zero_cutoff=1e-09, \n",
    "                                                                        open_exchanges=True)\n",
    "print len(blocked_reacts)"
   ]
  },
  {
   "cell_type": "code",
   "execution_count": 88,
   "metadata": {},
   "outputs": [
    {
     "data": {
      "text/plain": [
       "['2O4EH',\n",
       " '2PLS',\n",
       " '5DGLCNR',\n",
       " 'ACPS1',\n",
       " 'ADCPS2',\n",
       " 'ADMDCr',\n",
       " 'AGMT',\n",
       " 'AH7PK',\n",
       " 'AHCYSNS',\n",
       " 'ALATRS',\n",
       " 'AMAOTr',\n",
       " 'AOXSr',\n",
       " 'ARABT',\n",
       " 'ARGDC',\n",
       " 'ARGTRS',\n",
       " 'ASNTRS',\n",
       " 'ASPTRS',\n",
       " 'BACCL',\n",
       " 'BETALDHx',\n",
       " 'BH7PK',\n",
       " 'BTNt',\n",
       " 'CBIAT',\n",
       " 'CBL2OR',\n",
       " 'CBLAT',\n",
       " 'CHOLD',\n",
       " 'CMLDC',\n",
       " 'COB2',\n",
       " 'CPC6R',\n",
       " 'CPPPGO2',\n",
       " 'CRNabc',\n",
       " 'CYANST',\n",
       " 'CYSK2_I',\n",
       " 'CYSTRS',\n",
       " 'Clt',\n",
       " 'DBTSr',\n",
       " 'DCPDP',\n",
       " 'DCYTD',\n",
       " 'DGC3D',\n",
       " 'DGK1',\n",
       " 'DMHDRFS',\n",
       " 'DURIK1',\n",
       " 'DURIPP',\n",
       " 'ERGBSYN',\n",
       " 'EX_arab_L',\n",
       " 'EX_atp',\n",
       " 'EX_btn',\n",
       " 'EX_ca2',\n",
       " 'EX_chol',\n",
       " 'EX_cl',\n",
       " 'EX_crn',\n",
       " 'EX_cu2',\n",
       " 'EX_fe2',\n",
       " 'EX_glyb',\n",
       " 'EX_gua',\n",
       " 'EX_k',\n",
       " 'EX_malthp',\n",
       " 'EX_mg2',\n",
       " 'EX_mn2',\n",
       " 'EX_mobd',\n",
       " 'EX_na1',\n",
       " 'EX_ni2',\n",
       " 'EX_no',\n",
       " 'EX_pydxn',\n",
       " 'EX_tsul',\n",
       " 'FAH4',\n",
       " 'FASm3001',\n",
       " 'FCLPA',\n",
       " 'FMETTRS',\n",
       " 'G6PDH',\n",
       " 'GF4GL_0',\n",
       " 'GF4GL_1',\n",
       " 'GLNSP1',\n",
       " 'GLNSP2',\n",
       " 'GLNSP3',\n",
       " 'GLNTRS',\n",
       " 'GLUTRR',\n",
       " 'GLYALDDr',\n",
       " 'GLYBabc',\n",
       " 'GLYCK',\n",
       " 'GLYTRS',\n",
       " 'HISTRS',\n",
       " 'HOAS',\n",
       " 'HOPNTAL',\n",
       " 'ILETRS',\n",
       " 'LAT',\n",
       " 'LEUTRS',\n",
       " 'LPFPLT',\n",
       " 'LPLIPAL2E180',\n",
       " 'LPPGS',\n",
       " 'LYSTRS',\n",
       " 'MALTHPabc',\n",
       " 'MANT1',\n",
       " 'MBTA3',\n",
       " 'MDFDH',\n",
       " 'METTRS',\n",
       " 'MGt5',\n",
       " 'MHPGLUT',\n",
       " 'MNDNS1',\n",
       " 'MNDNS2',\n",
       " 'MOBA',\n",
       " 'MOEA1',\n",
       " 'MPML',\n",
       " 'MPTAT',\n",
       " 'MSHOXH',\n",
       " 'MTAN',\n",
       " 'MTAP',\n",
       " 'NNAM',\n",
       " 'NO',\n",
       " 'NOt',\n",
       " 'NTD1',\n",
       " 'NTD3',\n",
       " 'NTD6',\n",
       " 'NTD8',\n",
       " 'NTPTP1',\n",
       " 'Ni2t',\n",
       " 'ORNDC',\n",
       " 'PDBL_1',\n",
       " 'PDBL_2',\n",
       " 'PDBL_3',\n",
       " 'PDBL_4',\n",
       " 'PDX5PO',\n",
       " 'PGLYCP',\n",
       " 'PHBADA',\n",
       " 'PHBADB',\n",
       " 'PHBADC',\n",
       " 'PHBADD',\n",
       " 'PHETRS',\n",
       " 'PNCDC',\n",
       " 'PPTGS',\n",
       " 'PROTRS',\n",
       " 'PUNP4',\n",
       " 'PYAM5PO',\n",
       " 'PYDXNO',\n",
       " 'PYDXNtr',\n",
       " 'PYDXO',\n",
       " 'ROSFE',\n",
       " 'S7PI',\n",
       " 'SELCYSS',\n",
       " 'SERTRS',\n",
       " 'SERTRS2',\n",
       " 'SHCHD3',\n",
       " 'SPMS',\n",
       " 'SPODM',\n",
       " 'SR1',\n",
       " 'TBSNLS1',\n",
       " 'TBSNLS2',\n",
       " 'TBSNLS3',\n",
       " 'TBSYNLDPS',\n",
       " 'THFGLUS',\n",
       " 'THRTRS',\n",
       " 'TMDPP',\n",
       " 'TMHAS5',\n",
       " 'TMHAS6',\n",
       " 'TRIATS',\n",
       " 'TRPTRS',\n",
       " 'TSULabc',\n",
       " 'TYRTRS',\n",
       " 'UDPGD',\n",
       " 'UPPDC2',\n",
       " 'VALTRS',\n",
       " 'YUMPS']"
      ]
     },
     "execution_count": 88,
     "metadata": {},
     "output_type": "execute_result"
    }
   ],
   "source": [
    "blocked_reacts"
   ]
  },
  {
   "cell_type": "markdown",
   "metadata": {},
   "source": [
    "# Gene Essentiality\n",
    "In order to run the following gene essentiality predictions, "
   ]
  },
  {
   "cell_type": "code",
   "execution_count": 89,
   "metadata": {},
   "outputs": [],
   "source": [
    "griffin_file = \"../../Dataframes/Table_S2.xlsx\"\n",
    "griffin_excel = pd.read_excel(griffin_file,  sheetname='supp table 2',skiprows = 9,keep_default_na=False)"
   ]
  },
  {
   "cell_type": "code",
   "execution_count": 90,
   "metadata": {
    "scrolled": true
   },
   "outputs": [
    {
     "data": {
      "text/html": [
       "<div>\n",
       "<style>\n",
       "    .dataframe thead tr:only-child th {\n",
       "        text-align: right;\n",
       "    }\n",
       "\n",
       "    .dataframe thead th {\n",
       "        text-align: left;\n",
       "    }\n",
       "\n",
       "    .dataframe tbody tr th {\n",
       "        vertical-align: top;\n",
       "    }\n",
       "</style>\n",
       "<table border=\"1\" class=\"dataframe\">\n",
       "  <thead>\n",
       "    <tr style=\"text-align: right;\">\n",
       "      <th></th>\n",
       "      <th>Locus</th>\n",
       "      <th>Gene Name</th>\n",
       "      <th>Totals TA's</th>\n",
       "      <th>Total Insertions</th>\n",
       "      <th>Unoccupied Sites</th>\n",
       "      <th>Unoccupied Sites.1</th>\n",
       "      <th>p value</th>\n",
       "      <th>(Sassetti et al 2003)</th>\n",
       "    </tr>\n",
       "  </thead>\n",
       "  <tbody>\n",
       "    <tr>\n",
       "      <th>0</th>\n",
       "      <td>Rv0001</td>\n",
       "      <td>dnaA</td>\n",
       "      <td>32</td>\n",
       "      <td>1</td>\n",
       "      <td>4.365</td>\n",
       "      <td>31</td>\n",
       "      <td>0</td>\n",
       "      <td>essential</td>\n",
       "    </tr>\n",
       "    <tr>\n",
       "      <th>1</th>\n",
       "      <td>Rv0002</td>\n",
       "      <td>dnaN</td>\n",
       "      <td>31</td>\n",
       "      <td>0</td>\n",
       "      <td>4.319</td>\n",
       "      <td>31</td>\n",
       "      <td>0</td>\n",
       "      <td>no-data</td>\n",
       "    </tr>\n",
       "    <tr>\n",
       "      <th>2</th>\n",
       "      <td>Rv0003</td>\n",
       "      <td>recF</td>\n",
       "      <td>35</td>\n",
       "      <td>11</td>\n",
       "      <td>4.495</td>\n",
       "      <td>7</td>\n",
       "      <td>0.13067</td>\n",
       "      <td>non-essential</td>\n",
       "    </tr>\n",
       "    <tr>\n",
       "      <th>3</th>\n",
       "      <td>Rv0004</td>\n",
       "      <td>-</td>\n",
       "      <td>8</td>\n",
       "      <td>2</td>\n",
       "      <td>2.353</td>\n",
       "      <td>6</td>\n",
       "      <td>0.06177</td>\n",
       "      <td>non-essential</td>\n",
       "    </tr>\n",
       "    <tr>\n",
       "      <th>4</th>\n",
       "      <td>Rv0005</td>\n",
       "      <td>gyrB</td>\n",
       "      <td>43</td>\n",
       "      <td>3</td>\n",
       "      <td>4.794</td>\n",
       "      <td>40</td>\n",
       "      <td>0</td>\n",
       "      <td>essential</td>\n",
       "    </tr>\n",
       "  </tbody>\n",
       "</table>\n",
       "</div>"
      ],
      "text/plain": [
       "    Locus Gene Name Totals TA's Total Insertions Unoccupied Sites  \\\n",
       "0  Rv0001      dnaA          32                1            4.365   \n",
       "1  Rv0002      dnaN          31                0            4.319   \n",
       "2  Rv0003      recF          35               11            4.495   \n",
       "3  Rv0004         -           8                2            2.353   \n",
       "4  Rv0005      gyrB          43                3            4.794   \n",
       "\n",
       "  Unoccupied Sites.1  p value (Sassetti et al 2003)  \n",
       "0                 31        0             essential  \n",
       "1                 31        0               no-data  \n",
       "2                  7  0.13067         non-essential  \n",
       "3                  6  0.06177         non-essential  \n",
       "4                 40        0             essential  "
      ]
     },
     "execution_count": 90,
     "metadata": {},
     "output_type": "execute_result"
    }
   ],
   "source": [
    "griffin_excel.head()"
   ]
  },
  {
   "cell_type": "code",
   "execution_count": 91,
   "metadata": {},
   "outputs": [],
   "source": [
    "def griffin_essen(model_tb, dic_return):\n",
    "    model = model_tb.copy()\n",
    "    \n",
    "    fal_pos_dic, fal_neg_dic = {}, {}\n",
    "    true_neg_dic, true_pos_dic = {}, {}\n",
    "    \n",
    "    growth_rates = single_gene_deletion(model)\n",
    "    print \"Optimal growth\", model.optimize().f\n",
    "    print model.summary()\n",
    "    \n",
    "    orig_growth_thres = 0.25*model.optimize().f\n",
    "    print \"Threshold growth\", orig_growth_thres\n",
    "    \n",
    "    true_pos, true_neg, fal_pos, fal_neg = 0, 0, 0, 0\n",
    "    \n",
    "    # set grif essen threshold -- iSM810 paper uses 0.1 as \"confident essential\"\n",
    "    grif_thres = 0.1\n",
    "    print model.reactions.get_by_id(\"Kt3r\").reaction\n",
    "    for index, row in griffin_excel.iterrows():\n",
    "        gene = str(row[\"Locus\"])\n",
    "        \n",
    "        try:\n",
    "            growth = growth_rates.loc[gene, \"flux\"]\n",
    "            \n",
    "            # True negative - predicts that it grows (not essential) and is correct.\n",
    "            if float(row[\"p value\"]) > grif_thres and growth > orig_growth_thres:\n",
    "                    true_neg = true_neg + 1\n",
    "                    true_neg_dic.update({gene: [growth, float(row[\"p value\"])]})\n",
    "                    \n",
    "            # False negative - predicts that it grows (not essential) when it actually essential\n",
    "            if float(row[\"p value\"]) < grif_thres and growth > orig_growth_thres:\n",
    "                    fal_neg = fal_neg + 1\n",
    "                    fal_neg_dic.update({gene: [growth, float(row[\"p value\"])]})\n",
    "                    \n",
    "            if float(row[\"p value\"]) < grif_thres and growth < orig_growth_thres:\n",
    "                    true_pos = true_pos + 1\n",
    "                    true_pos_dic.update({gene: [growth, float(row[\"p value\"])]})\n",
    "                    \n",
    "            if float(row[\"p value\"]) > grif_thres and growth < orig_growth_thres:\n",
    "                    fal_pos = fal_pos + 1\n",
    "                    fal_pos_dic.update({gene: [growth, float(row[\"p value\"])]})\n",
    "                    \n",
    "        except:\n",
    "            pass            \n",
    "            \n",
    "    # ---Analyze and Print results ---\n",
    "    print \"TP - TN - FP - FN\"\n",
    "    print true_pos, true_neg, fal_pos, fal_neg\n",
    "    \n",
    "    # percent of correct predictions\n",
    "    perc_correct = (true_pos+true_neg)/(true_pos+true_neg+fal_pos+float(fal_neg))\n",
    "    print \"percent correct: \", perc_correct\n",
    "    \n",
    "    # mcc calculation\n",
    "    MCC_root = math.sqrt((true_pos + fal_pos)*(true_pos + fal_neg)*(true_neg + fal_pos)*(true_neg + fal_neg))\n",
    "    MCC = (true_pos*true_neg - fal_pos*fal_neg)/MCC_root\n",
    "    print \"Matthew Correlation Coefficient\", MCC\n",
    "    if dic_return == \"Yes\":\n",
    "        return fal_neg_dic, fal_pos_dic\n",
    "    elif dic_return == \"Yes both\":\n",
    "        return fal_neg_dic, fal_pos_dic, true_neg_dic, true_pos_dic"
   ]
  },
  {
   "cell_type": "markdown",
   "metadata": {},
   "source": [
    "Change media"
   ]
  },
  {
   "cell_type": "code",
   "execution_count": 92,
   "metadata": {},
   "outputs": [],
   "source": [
    "griffin_media = {\n",
    "    \"EX_h\": 1000, # hydrogen\n",
    "    \"EX_h2o\": 1000, # water\n",
    "    \"EX_o2\": 20.0, # oxygen\n",
    "    \"EX_asn_L\": 1.0, # asparagine\n",
    "    \"EX_nh4\": 10.0, # ammonium\n",
    "    \"EX_cit\":5.0, # citrate\n",
    "    \"EX_etoh\": 5.0, # ethanol\n",
    "    \"EX_ca2\": 1000.0, # calcium for CaCl2\n",
    "    \"EX_cl\": 1000.0, # chloride for CaCl2\n",
    "    \"EX_mg2\": 1000.0, # mg for MgSO4\n",
    "    \"EX_so4\": 1000, # so4 for MgSO4\n",
    "    \"EX_fe3\":5.0, # fe3 for ferric\n",
    "    \"EX_glyc\":5.0, # glycerol\n",
    "    \"EX_pi\":1.0, # phosphate\n",
    "    \"EX_chsterol\":5.0, # cholesterol\n",
    "}"
   ]
  },
  {
   "cell_type": "code",
   "execution_count": 93,
   "metadata": {
    "collapsed": true
   },
   "outputs": [],
   "source": [
    "model_iEK.medium = griffin_media"
   ]
  },
  {
   "cell_type": "markdown",
   "metadata": {},
   "source": [
    "Calculate the Matthews correlation coefficient. It should be around **0.532**."
   ]
  },
  {
   "cell_type": "code",
   "execution_count": 94,
   "metadata": {
    "scrolled": false
   },
   "outputs": [
    {
     "name": "stdout",
     "output_type": "stream",
     "text": [
      "Optimal growth 0.322258257973\n",
      "IN FLUXES             OUT FLUXES         OBJECTIVES\n",
      "--------------------  -----------------  --------------\n",
      "o2_e        18.6      h2o_e   31.2       biomass  0.322\n",
      "h_e         14.6      co2_e   13.6\n",
      "cit_e        5        succ_e   7.8\n",
      "etoh_e       5        hia_e    0.0315\n",
      "glyc_e       5        4hba_e   0.000258\n",
      "asn__L_e     1\n",
      "pi_e         0.436\n",
      "nh4_e        0.261\n",
      "so4_e        0.0438\n",
      "chsterol_e   0.0315\n",
      "fe3_e        0.00229\n",
      "None\n",
      "Threshold growth 0.0805645644932\n",
      "k_c <-- k_e\n",
      "TP - TN - FP - FN\n",
      "245 539 54 176\n",
      "percent correct:  0.773175542406\n",
      "Matthew Correlation Coefficient 0.530468805079\n"
     ]
    }
   ],
   "source": [
    "FN_dic, FP_dic, TN_dic, TP_dic = griffin_essen(model_iEK, \"Yes both\")"
   ]
  },
  {
   "cell_type": "code",
   "execution_count": 95,
   "metadata": {},
   "outputs": [
    {
     "data": {
      "image/png": "[encoded data removed]",
      "text/plain": [
       "<matplotlib.figure.Figure at 0x7fad57789650>"
      ]
     },
     "metadata": {},
     "output_type": "display_data"
    }
   ],
   "source": [
    "%matplotlib inline\n",
    "matplotlib.style.use('seaborn-darkgrid')\n",
    "\n",
    "mcc = (0.27, 0.51, 0.52, 0.52, 0.53)\n",
    "N = 5\n",
    "ind = np.arange(N)  # the x locations for the groups\n",
    "width = .45\n",
    "fig, ax = plt.subplots(figsize=(8, 5))\n",
    "colors = ['yellowgreen','yellowgreen','yellowgreen','yellowgreen','lightskyblue']\n",
    "rects1 = ax.bar(ind, mcc, width,align='center', color=colors)\n",
    "\n",
    "# ---- Add some text for labels, title and axes ticks\n",
    "ax.set_ylabel('Matthews Correlation Coefficient')\n",
    "ax.set_xlabel('Metabolic Model')\n",
    "ax.set_title('Gene Essentiality Prediction Comparisons')\n",
    "ax.set_xticks(ind)\n",
    "ax.set_xticklabels(('iNJ661', 'GSMN-TB1.1', 'sMtb', 'iSM810', 'iEK1020'))\n",
    "# ----- Add values on top of barchart\n",
    "rects = ax.patches\n",
    "# Now make some labels\n",
    "# labels = [\"label%d\" % i for i in xrange(len(rects))]\n",
    "labels = mcc\n",
    "for rect, label in zip(rects, labels):\n",
    "    height = rect.get_height()\n",
    "    ax.text(rect.get_x() + rect.get_width()/2, height+0.01, label, ha='center', \n",
    "            va='bottom',fontsize=13)\n",
    "\n",
    "fig.savefig(\"../../Figures/gene_essentiality_comparisons.svg\", bbox_inches='tight')"
   ]
  },
  {
   "cell_type": "markdown",
   "metadata": {},
   "source": [
    "# _in Vitro_ vs _in Vivo_ simulations\n",
    "- Two media conditions contrasting petri dish and host environment...  \n",
    "    - inVitro_drugTesting\n",
    "    - inVivo_conditions"
   ]
  },
  {
   "cell_type": "markdown",
   "metadata": {},
   "source": [
    "### Definte _in vitro_ and _in vivo_ media conditions"
   ]
  },
  {
   "cell_type": "code",
   "execution_count": 96,
   "metadata": {
    "collapsed": true
   },
   "outputs": [],
   "source": [
    "inVitro_drugTesting = {\n",
    " 'EX_asn_L': 1,\n",
    " 'EX_ca2': 1000.0,\n",
    " 'EX_cit': 1.0,\n",
    " 'EX_cl': 1000.0,\n",
    " 'EX_etoh': 1,\n",
    " 'EX_fe3': 5.0,\n",
    " 'EX_glyc': 1.0,\n",
    " 'EX_h': 1000,\n",
    " 'EX_mg2': 1000.0,\n",
    " 'EX_mobd': 1000,\n",
    " 'EX_nh4': 20.0,\n",
    " 'EX_o2': 20.0,\n",
    " 'EX_pi': 1000,\n",
    " 'EX_so4': 1000,\n",
    "}\n",
    "\n",
    "inVivo_conditions = {\n",
    " 'EX_ala_L': 1,\n",
    " 'EX_asn_L': 5,\n",
    " 'EX_asp_L': 5,\n",
    " 'EX_urea': .1, \n",
    " 'EX_glu_L': 1,\n",
    " 'EX_gln_L': 1, \n",
    " 'EX_ca2': 1000,\n",
    " 'EX_cl': 1000,\n",
    " 'EX_co2': 1000,\n",
    " 'EX_cobalt2': 1000,\n",
    " 'EX_cu2': 1000,\n",
    " 'EX_fe3': 5,\n",
    " 'EX_h': 1000,\n",
    " 'EX_hdca': 10,\n",
    " 'EX_k': 1000,\n",
    " 'EX_mg2': 1000,\n",
    " 'EX_mobd': 1000,\n",
    " 'EX_na1': 1000,\n",
    " 'EX_no3': 1.5,\n",
    " 'EX_o2': .5, # - hypoxia\n",
    " 'EX_pi': 1000,\n",
    " 'EX_ppa': 20,\n",
    " 'EX_so4': 1000,\n",
    " 'EX_ocdca': 10,\n",
    " 'EX_ttdca': 10,\n",
    " \"EX_nodcoa\": 10,\n",
    " 'EX_chsterol': 10,\n",
    " \"EX_octscoa\": 10,\n",
    "\n",
    "}"
   ]
  },
  {
   "cell_type": "markdown",
   "metadata": {},
   "source": [
    "### Compute FVA for _in vitro_ model\n",
    "\n",
    "Stated as 0.059 in the paper."
   ]
  },
  {
   "cell_type": "code",
   "execution_count": 97,
   "metadata": {
    "collapsed": true
   },
   "outputs": [
    {
     "name": "stdout",
     "output_type": "stream",
     "text": [
      "Optimal growth:  0.0593715098976\n",
      "ICL FBA flux: 0.0\n",
      "ICL pFBA flux: 0.0\n",
      "Total model flux: 45.7341567095\n",
      "----\n",
      "IN FLUXES          OUT FLUXES        OBJECTIVES\n",
      "-----------------  ----------------  ---------------\n",
      "o2_e      5.07     h2co3_e  4.43     biomass  0.0564\n",
      "h_e       4.56     succ_e   2\n",
      "asn__L_e  1        h2o_e    1.87\n",
      "cit_e     1        nh4_e    1.6\n",
      "etoh_e    1        4hba_e   4.5e-05\n",
      "glyc_e    1\n",
      "pi_e      0.0764\n",
      "so4_e     0.00767\n",
      "fe3_e     0.0004\n",
      "None\n",
      "----\n",
      "Max ICL flux variability: 0.1959\n"
     ]
    }
   ],
   "source": [
    "model_iEK.medium = inVitro_drugTesting\n",
    "solution = model_iEK.optimize()\n",
    "pfba_norm_solution = cobra.flux_analysis.pfba(model_iEK)\n",
    "\n",
    "print \"Optimal growth: \", pfba_norm_solution.fluxes[\"biomass\"]\n",
    "print \"ICL FBA flux:\", solution.fluxes[\"ICL\"]\n",
    "print \"ICL pFBA flux:\", pfba_norm_solution.fluxes[\"ICL\"]\n",
    "print \"Total model flux:\", pfba_norm_solution.fluxes.sum()\n",
    "\n",
    "fva_norm = cobra.flux_analysis.flux_variability_analysis(model_iEK,\n",
    "                                                        fraction_of_optimum=.95, \n",
    "                                                        solver=None)\n",
    "fva_norm = pd.DataFrame.from_dict(fva_norm).T.round(5)\n",
    "print \"----\"\n",
    "print model_iEK.summary()\n",
    "print \"----\"\n",
    "print \"Max ICL flux variability:\", fva_norm[\"ICL\"][\"maximum\"]"
   ]
  },
  {
   "cell_type": "markdown",
   "metadata": {},
   "source": [
    "### Compute FVA for _in vivo_ model\n",
    "\n",
    "The hypoxic growth condition is slower with a value of 0.039"
   ]
  },
  {
   "cell_type": "code",
   "execution_count": 98,
   "metadata": {
    "collapsed": true
   },
   "outputs": [
    {
     "name": "stdout",
     "output_type": "stream",
     "text": [
      "Optimal growth:  0.0390441361382\n",
      "ICL FBA flux: 0.029929360645\n",
      "ICL pFBA flux: 0.029929360645\n",
      "Total model flux: 17.3705449626\n",
      "----\n",
      "IN FLUXES             OUT FLUXES         OBJECTIVES\n",
      "--------------------  -----------------  ---------------\n",
      "h_e        12.7       co2_e     7.56     biomass  0.0371\n",
      "asp__L_e    5         nh4_e     6.13\n",
      "no3_e       1.5       ala__B_e  4.14\n",
      "asn__L_e    1.06      succ_e    2.75\n",
      "ala__L_e    1         val__L_e  0.451\n",
      "glu__L_e    1         coa_e     0.081\n",
      "o2_e        0.5       ac_e      0.00446\n",
      "urea_e      0.1       4hba_e    3e-05\n",
      "gln__L_e    0.0797\n",
      "octscoa_e   0.0708\n",
      "pi_e        0.048\n",
      "nodcoa_e    0.0109\n",
      "so4_e       0.00431\n",
      "fe3_e       0.000263\n",
      "None\n",
      "----\n",
      "Max ICL flux variability: 0.3024\n"
     ]
    }
   ],
   "source": [
    "model_iEK.medium = inVivo_conditions\n",
    "solution = model_iEK.optimize()\n",
    "pfba_hypox_solution = cobra.flux_analysis.pfba(model_iEK)\n",
    "\n",
    "print \"Optimal growth: \", pfba_hypox_solution.fluxes[\"biomass\"]\n",
    "print \"ICL FBA flux:\", solution.fluxes[\"ICL\"]\n",
    "print \"ICL pFBA flux:\", pfba_hypox_solution.fluxes[\"ICL\"]\n",
    "print \"Total model flux:\", pfba_hypox_solution.fluxes.sum()\n",
    "\n",
    "fva_hypoxia = cobra.flux_analysis.flux_variability_analysis(model_iEK,\n",
    "                                                            fraction_of_optimum=.95, \n",
    "                                                            solver=None)\n",
    "fva_hypox = pd.DataFrame.from_dict(fva_hypoxia).T.round(5)\n",
    "print \"----\"\n",
    "print model_iEK.summary()\n",
    "print \"----\"\n",
    "print \"Max ICL flux variability:\", fva_hypox[\"ICL\"][\"maximum\"]"
   ]
  },
  {
   "cell_type": "markdown",
   "metadata": {},
   "source": [
    "#### Compare model simulations"
   ]
  },
  {
   "cell_type": "code",
   "execution_count": 99,
   "metadata": {
    "collapsed": true
   },
   "outputs": [
    {
     "name": "stdout",
     "output_type": "stream",
     "text": [
      "EX_succ\n",
      "pFBA: 1.9734071621 2.75967481006\n",
      "FVA max: 2.07476 5.34676\n",
      "FVA min: 1.39097 2.12661\n",
      "-----\n",
      "EX_ac\n",
      "pFBA: 3.06703164376e-09 0.00469267567831\n",
      "FVA max: 0.24255 0.19729\n",
      "FVA min: 0.0 0.0\n",
      "-----\n",
      "EX_nh4\n",
      "pFBA: 1.58347412574 5.7046432925\n",
      "FVA max: 1.6043 8.55932\n",
      "FVA min: 1.27904 4.91902\n",
      "-----\n",
      "ICL\n",
      "pFBA: 0.0 0.029929360645\n",
      "FVA max: 0.1959 0.3024\n",
      "FVA min: 0.0 0.0\n",
      "-----\n",
      "2MCS\n",
      "pFBA: 0.0 0.0\n",
      "FVA max: 0.07923 0.19617\n",
      "FVA min: 0.0 0.0\n",
      "-----\n",
      "ICDHy\n",
      "pFBA: 1.98461721563 0.794742945001\n",
      "FVA max: 2.02343 2.09008\n",
      "FVA min: 1.3164 0.47001\n",
      "-----\n",
      "KGD2\n",
      "pFBA: -1.95611556607 -1.85988277615\n",
      "FVA max: -1.25949 -1.53189\n",
      "FVA min: -1.99636 -3.15196\n",
      "-----\n",
      "ENO\n",
      "pFBA: 0.651929080837 -0.196150178411\n",
      "FVA max: 0.71368 -0.18634\n",
      "FVA min: -0.48628 -0.35336\n",
      "-----\n",
      "PEPCK_re\n",
      "pFBA: -0.0557797292758 0.207607133542\n",
      "FVA max: 0.64592 4.91173\n",
      "FVA min: -1.03903 0.03444\n",
      "-----\n",
      "ATPS4r\n",
      "pFBA: 6.61484813403 4.59009968068\n",
      "FVA max: 8.75653 5.07951\n",
      "FVA min: 6.29049 3.13302\n",
      "-----\n"
     ]
    }
   ],
   "source": [
    "reacts_of_interest = ['EX_succ', 'EX_ac', 'EX_nh4', 'ICL', '2MCS', 'ICDHy','KGD2', 'ENO', 'PEPCK_re', 'ATPS4r']\n",
    "\n",
    "for react in reacts_of_interest:\n",
    "    print react\n",
    "    print \"pFBA:\", pfba_norm_solution.fluxes[react] ,pfba_hypox_solution.fluxes[react]\n",
    "    print \"FVA max:\", fva_norm[react][\"maximum\"], fva_hypox[react][\"maximum\"]\n",
    "    print \"FVA min:\", fva_norm[react][\"minimum\"], fva_hypox[react][\"minimum\"]\n",
    "    print \"-----\""
   ]
  },
  {
   "cell_type": "markdown",
   "metadata": {},
   "source": [
    "### Compare sampled spaces"
   ]
  },
  {
   "cell_type": "markdown",
   "metadata": {},
   "source": [
    "_in vitro_ conditions"
   ]
  },
  {
   "cell_type": "code",
   "execution_count": 111,
   "metadata": {
    "collapsed": true
   },
   "outputs": [
    {
     "name": "stdout",
     "output_type": "stream",
     "text": [
      "0\n",
      "0.0564029344167\n",
      "CPU times: user 45.8 s, sys: 1min 6s, total: 1min 52s\n",
      "Wall time: 1min 7s\n",
      "   2AGPEAT160  2AGPEAT180  5DGLCNR   AACPS10   AACPS11    AACPS3      ABTA  \\\n",
      "0    0.000003    0.000006      0.0  0.003467  0.000465  0.001119  0.000006   \n",
      "1    0.000004    0.000009      0.0  0.003474  0.000465  0.001163  0.000007   \n",
      "2    0.000128    0.000006      0.0  0.003468  0.000534  0.001101  0.000005   \n",
      "3    0.000128    0.000006      0.0  0.003467  0.000534  0.001490  0.000004   \n",
      "4    0.000128    0.000006      0.0  0.003467  0.000534  0.002004  0.000004   \n",
      "\n",
      "    ACACT1r    ACALDi  ACBIPGT     ...        ACYP_2   GTPDPDP   PPGPPDP  \\\n",
      "0  0.000181  1.016693      0.0     ...      0.000006  0.000002  0.000002   \n",
      "1  0.000181  1.028069      0.0     ...      0.000007  0.000002  0.000002   \n",
      "2  0.000181  1.023392      0.0     ...      0.000027  0.000002  0.000002   \n",
      "3  0.000181  1.022842      0.0     ...      0.001156  0.000001  0.000001   \n",
      "4  0.000181  1.030049      0.0     ...      0.001157  0.000001  0.000001   \n",
      "\n",
      "      AKGDH  EX_nodcoa  NODCOAt  EX_octscoa  OCTSCOAt      ATPM      VPAMTr  \n",
      "0  0.000024        0.0      0.0         0.0       0.0  3.152459 -781.283369  \n",
      "1  0.000027        0.0      0.0         0.0       0.0  3.152189 -728.239791  \n",
      "2  0.000128        0.0      0.0         0.0       0.0  3.154124 -663.340169  \n",
      "3  0.000007        0.0      0.0         0.0       0.0  3.153643 -659.214218  \n",
      "4  0.000222        0.0      0.0         0.0       0.0  3.153657 -679.151701  \n",
      "\n",
      "[5 rows x 1211 columns]\n"
     ]
    }
   ],
   "source": [
    "model_iEK.medium = inVitro_drugTesting\n",
    "pfba_solution = cobra.flux_analysis.pfba(model_iEK)\n",
    "opt_value = pfba_solution[\"biomass\"]\n",
    "\n",
    "# -- constrain solution space to 0.95 of optimum --\n",
    "with model_iEK:\n",
    "    print model_iEK.reactions.get_by_id(\"biomass\").lower_bound\n",
    "    model_iEK.reactions.get_by_id(\"biomass\").lower_bound = opt_value*.95\n",
    "    print model_iEK.reactions.get_by_id(\"biomass\").lower_bound\n",
    "    %time inVitro_samples = sample(model_iEK, 10000, processes=4)\n",
    "    print inVitro_samples.head()"
   ]
  },
  {
   "cell_type": "markdown",
   "metadata": {},
   "source": [
    "_in vivo_ conditions"
   ]
  },
  {
   "cell_type": "code",
   "execution_count": 112,
   "metadata": {
    "collapsed": true
   },
   "outputs": [
    {
     "name": "stdout",
     "output_type": "stream",
     "text": [
      "0\n",
      "0.0370919293313\n",
      "CPU times: user 41 s, sys: 59.8 s, total: 1min 40s\n",
      "Wall time: 1min 9s\n",
      "   2AGPEAT160  2AGPEAT180  5DGLCNR  AACPS10   AACPS11    AACPS3      ABTA  \\\n",
      "0    0.000002    0.000005      0.0  0.00228  0.000300  0.000702  0.000005   \n",
      "1    0.000002    0.000005      0.0  0.00228  0.000300  0.000701  0.000005   \n",
      "2    0.000002    0.000005      0.0  0.00228  0.000301  0.000705  0.000005   \n",
      "3    0.000002    0.000005      0.0  0.00228  0.000298  0.000726  0.000005   \n",
      "4    0.000002    0.000005      0.0  0.00228  0.000302  0.000723  0.000011   \n",
      "\n",
      "    ACACT1r    ACALDi       ACBIPGT     ...        ACYP_2   GTPDPDP   PPGPPDP  \\\n",
      "0  0.000119  0.000007  1.274845e-04     ...      0.000005  0.000002  0.000002   \n",
      "1  0.000119  0.000007  1.272570e-04     ...      0.000005  0.000002  0.000002   \n",
      "2  0.000119  0.000007  1.216423e-04     ...      0.000005  0.000002  0.000002   \n",
      "3  0.000119  0.000007  9.483731e-08     ...      0.000035  0.000002  0.000002   \n",
      "4  0.000119  0.000007  5.422707e-07     ...      0.000035  0.000002  0.000002   \n",
      "\n",
      "      AKGDH  EX_nodcoa   NODCOAt  EX_octscoa  OCTSCOAt      ATPM      VPAMTr  \n",
      "0  0.000026  -0.010953  0.010953   -0.070843  0.070843  3.150010 -371.888381  \n",
      "1  0.000100  -0.010956  0.010956   -0.070760  0.070760  3.150009 -370.420790  \n",
      "2  0.000274  -0.010933  0.010933   -0.070779  0.070779  3.150086 -369.996482  \n",
      "3  0.000275  -0.010977  0.010977   -0.070802  0.070802  3.150063 -388.998057  \n",
      "4  0.000139  -0.010976  0.010976   -0.070827  0.070827  3.150062 -391.929905  \n",
      "\n",
      "[5 rows x 1211 columns]\n"
     ]
    }
   ],
   "source": [
    "model_iEK.medium = inVivo_conditions\n",
    "pfba_solution = cobra.flux_analysis.pfba(model_iEK)\n",
    "opt_value = pfba_solution[\"biomass\"]\n",
    "\n",
    "# -- constrain solution space to 0.95 of optimum --\n",
    "with model_iEK:\n",
    "    print model_iEK.reactions.get_by_id(\"biomass\").lower_bound\n",
    "    model_iEK.reactions.get_by_id(\"biomass\").lower_bound = opt_value*.95\n",
    "    print model_iEK.reactions.get_by_id(\"biomass\").lower_bound\n",
    "    %time inVivo_samples = sample(model_iEK, 10000, processes=4)\n",
    "    print inVivo_samples.head()"
   ]
  },
  {
   "cell_type": "markdown",
   "metadata": {},
   "source": [
    "## Comparison Plots"
   ]
  },
  {
   "cell_type": "code",
   "execution_count": 113,
   "metadata": {},
   "outputs": [],
   "source": [
    "%matplotlib inline\n",
    "plt.style.use('seaborn-white')"
   ]
  },
  {
   "cell_type": "code",
   "execution_count": 114,
   "metadata": {
    "scrolled": false
   },
   "outputs": [
    {
     "data": {
      "image/png": "[encoded data removed]",
      "text/plain": [
       "<matplotlib.figure.Figure at 0x7fad51b72910>"
      ]
     },
     "metadata": {},
     "output_type": "display_data"
    },
    {
     "data": {
      "image/png": "[encoded data removed]",
      "text/plain": [
       "<matplotlib.figure.Figure at 0x7face01722d0>"
      ]
     },
     "metadata": {},
     "output_type": "display_data"
    },
    {
     "data": {
      "image/png": "[encoded data removed]",
      "text/plain": [
       "<matplotlib.figure.Figure at 0x7facc48bb490>"
      ]
     },
     "metadata": {},
     "output_type": "display_data"
    },
    {
     "data": {
      "image/png": "[encoded data removed]",
      "text/plain": [
       "<matplotlib.figure.Figure at 0x7fac84231c50>"
      ]
     },
     "metadata": {},
     "output_type": "display_data"
    },
    {
     "data": {
      "image/png": "[encoded data removed]",
      "text/plain": [
       "<matplotlib.figure.Figure at 0x7fac777bf650>"
      ]
     },
     "metadata": {},
     "output_type": "display_data"
    },
    {
     "data": {
      "image/png": "[encoded data removed]",
      "text/plain": [
       "<matplotlib.figure.Figure at 0x7fac74664c50>"
      ]
     },
     "metadata": {},
     "output_type": "display_data"
    },
    {
     "data": {
      "image/png": "[encoded data removed]",
      "text/plain": [
       "<matplotlib.figure.Figure at 0x7fac742f0dd0>"
      ]
     },
     "metadata": {},
     "output_type": "display_data"
    },
    {
     "data": {
      "image/png": "[encoded data removed]",
      "text/plain": [
       "<matplotlib.figure.Figure at 0x7fac84147150>"
      ]
     },
     "metadata": {},
     "output_type": "display_data"
    },
    {
     "data": {
      "image/png": "[encoded data removed]",
      "text/plain": [
       "<matplotlib.figure.Figure at 0x7facee3a2890>"
      ]
     },
     "metadata": {},
     "output_type": "display_data"
    },
    {
     "data": {
      "image/png": "[encoded data removed]",
      "text/plain": [
       "<matplotlib.figure.Figure at 0x7faca04a9e50>"
      ]
     },
     "metadata": {},
     "output_type": "display_data"
    }
   ],
   "source": [
    "for react in reacts_of_interest:\n",
    "    inVitro_samples[react].hist(bins=80)\n",
    "    inVivo_samples[react].hist(bins=80)\n",
    "    plt.title(react)\n",
    "    plt.ylabel(\"sample frequency\")\n",
    "    plt.xlabel(\"flux\")\n",
    "    plt.show()"
   ]
  },
  {
   "cell_type": "markdown",
   "metadata": {},
   "source": [
    "## Box plots"
   ]
  },
  {
   "cell_type": "code",
   "execution_count": 115,
   "metadata": {
    "collapsed": true
   },
   "outputs": [],
   "source": [
    "def plot_box_plot(samples1, samples2, name1, name2, rxn, title):\n",
    "    box_1 = samples1[rxn].copy()\n",
    "    box_1.name = name1\n",
    "    box_2 = samples2[rxn].copy()\n",
    "    box_2.name = name2\n",
    "    box_df = pd.concat([box_1, box_2], axis=1)\n",
    "    color = dict(boxes='k', whiskers='k', medians='r', caps='Gray')\n",
    "    box_df.plot.box(sym='', title=title, color=color)\n",
    "    plt.ylabel(\"Flux\")\n",
    "    # save_fig_name = rxn+\"_sampling_boxplot.svg\"\n",
    "    # plt.savefig(save_fig_name)"
   ]
  },
  {
   "cell_type": "code",
   "execution_count": 116,
   "metadata": {},
   "outputs": [
    {
     "data": {
      "image/png": "[encoded data removed]",
      "text/plain": [
       "<matplotlib.figure.Figure at 0x7fad51b72ed0>"
      ]
     },
     "metadata": {},
     "output_type": "display_data"
    },
    {
     "data": {
      "image/png": "[encoded data removed]",
      "text/plain": [
       "<matplotlib.figure.Figure at 0x7fac8c56c7d0>"
      ]
     },
     "metadata": {},
     "output_type": "display_data"
    },
    {
     "data": {
      "image/png": "[encoded data removed]",
      "text/plain": [
       "<matplotlib.figure.Figure at 0x7faca004fc50>"
      ]
     },
     "metadata": {},
     "output_type": "display_data"
    },
    {
     "data": {
      "image/png": "[encoded data removed]",
      "text/plain": [
       "<matplotlib.figure.Figure at 0x7fad51811750>"
      ]
     },
     "metadata": {},
     "output_type": "display_data"
    },
    {
     "data": {
      "image/png": "[encoded data removed]",
      "text/plain": [
       "<matplotlib.figure.Figure at 0x7faca04b5390>"
      ]
     },
     "metadata": {},
     "output_type": "display_data"
    },
    {
     "data": {
      "image/png": "[encoded data removed]",
      "text/plain": [
       "<matplotlib.figure.Figure at 0x7fac8414bc10>"
      ]
     },
     "metadata": {},
     "output_type": "display_data"
    },
    {
     "data": {
      "image/png": "[encoded data removed]",
      "text/plain": [
       "<matplotlib.figure.Figure at 0x7fac742f0a50>"
      ]
     },
     "metadata": {},
     "output_type": "display_data"
    },
    {
     "data": {
      "image/png": "[encoded data removed]",
      "text/plain": [
       "<matplotlib.figure.Figure at 0x7fac742d9310>"
      ]
     },
     "metadata": {},
     "output_type": "display_data"
    },
    {
     "data": {
      "image/png": "[encoded data removed]",
      "text/plain": [
       "<matplotlib.figure.Figure at 0x7fad518d93d0>"
      ]
     },
     "metadata": {},
     "output_type": "display_data"
    },
    {
     "data": {
      "image/png": "[encoded data removed]",
      "text/plain": [
       "<matplotlib.figure.Figure at 0x7fad51b4a110>"
      ]
     },
     "metadata": {},
     "output_type": "display_data"
    }
   ],
   "source": [
    "for react in reacts_of_interest:\n",
    "    plot_box_plot(inVitro_samples, inVivo_samples, \n",
    "               \"in vitro media\", \"in vivo media\", \n",
    "               react, \n",
    "               react)"
   ]
  },
  {
   "cell_type": "markdown",
   "metadata": {},
   "source": [
    "# Output to excel sheet."
   ]
  },
  {
   "cell_type": "markdown",
   "metadata": {},
   "source": [
    "Prepare _iEK1020_ reaction and metabolite sheets. The gene sheet with references was manually generated."
   ]
  },
  {
   "cell_type": "code",
   "execution_count": 117,
   "metadata": {},
   "outputs": [
    {
     "name": "stdout",
     "output_type": "stream",
     "text": [
      "{u'EX_k': 1000, u'EX_cu2': 1000.0, u'EX_fe2': 1000.0, u'EX_ca2': 1000.0, u'EX_glu_L': 1.0, u'EX_nh4': 20, u'EX_ac': 10, u'EX_co2': 1000, u'EX_fe3': 1000.0, u'EX_cl': 1000.0, u'EX_h': 1000, u'EX_btn': 1, u'EX_mobd': 1000, u'EX_na1': 1000, u'EX_pi': 1000, u'EX_h2co3': 1000, u'EX_cit': 1.0, u'EX_o2': 20, u'EX_so4': 1000, u'EX_pydxn': 1, u'EX_mg2': 1000.0}\n"
     ]
    }
   ],
   "source": [
    "model_iEK = cobra.io.load_json_model(\"iEK1020.json\")\n",
    "print model_iEK.medium\n",
    "react_dict = []\n",
    "for react in model_iEK.reactions:\n",
    "    react_dict.append({'Reaction ID': str(react.id), \n",
    "                       'Reaction Name': str(react.name), \n",
    "                       'Subsystem': str(react.subsystem), \n",
    "                       'Reaction Formula': str(react.reaction),\n",
    "                       'Lower Bound': str(react.lower_bound),\n",
    "                       'Upper Bound': str(react.upper_bound),\n",
    "                       'Gene Reaction Rule': str(react.gene_reaction_rule)\n",
    "                 })\n",
    "react_df = pd.DataFrame(react_dict)\n",
    "react_df = react_df[[\"Reaction ID\", 'Reaction Name', 'Subsystem', 'Reaction Formula', \n",
    "                     'Lower Bound', 'Upper Bound', 'Gene Reaction Rule' ]]\n",
    "\n",
    "metab_dict = []\n",
    "for metab in model_iEK.metabolites:\n",
    "    metab_dict.append({'Metabolite ID': str(metab.id), \n",
    "                       'Metabolite Name': str(metab.name), \n",
    "                       'Metabolite Formula': str(metab.formula), \n",
    "                 })\n",
    "metab_df = pd.DataFrame(metab_dict)\n",
    "metab_df = metab_df[[\"Metabolite ID\", 'Metabolite Name', 'Metabolite Formula']]"
   ]
  },
  {
   "cell_type": "code",
   "execution_count": 118,
   "metadata": {},
   "outputs": [
    {
     "data": {
      "text/plain": [
       "u'iEK1020'"
      ]
     },
     "execution_count": 118,
     "metadata": {},
     "output_type": "execute_result"
    }
   ],
   "source": [
    "model_iEK.id"
   ]
  },
  {
   "cell_type": "markdown",
   "metadata": {},
   "source": [
    "Prepare Griffin Essentiality sheet."
   ]
  },
  {
   "cell_type": "code",
   "execution_count": 119,
   "metadata": {},
   "outputs": [
    {
     "data": {
      "text/html": [
       "<div>\n",
       "<style>\n",
       "    .dataframe thead tr:only-child th {\n",
       "        text-align: right;\n",
       "    }\n",
       "\n",
       "    .dataframe thead th {\n",
       "        text-align: left;\n",
       "    }\n",
       "\n",
       "    .dataframe tbody tr th {\n",
       "        vertical-align: top;\n",
       "    }\n",
       "</style>\n",
       "<table border=\"1\" class=\"dataframe\">\n",
       "  <thead>\n",
       "    <tr style=\"text-align: right;\">\n",
       "      <th></th>\n",
       "      <th>Gene</th>\n",
       "      <th>KO Growth Rate</th>\n",
       "      <th>Griffin Essentiality P-Value</th>\n",
       "      <th>Error Type</th>\n",
       "    </tr>\n",
       "  </thead>\n",
       "  <tbody>\n",
       "    <tr>\n",
       "      <th>0</th>\n",
       "      <td>Rv1295</td>\n",
       "      <td>-1.461829e-16</td>\n",
       "      <td>0.00001</td>\n",
       "      <td>True Positive</td>\n",
       "    </tr>\n",
       "    <tr>\n",
       "      <th>1</th>\n",
       "      <td>Rv2573</td>\n",
       "      <td>1.071122e-14</td>\n",
       "      <td>0.71349</td>\n",
       "      <td>False Positive</td>\n",
       "    </tr>\n",
       "    <tr>\n",
       "      <th>2</th>\n",
       "      <td>Rv3815c</td>\n",
       "      <td>-9.302549e-17</td>\n",
       "      <td>0.97648</td>\n",
       "      <td>False Positive</td>\n",
       "    </tr>\n",
       "    <tr>\n",
       "      <th>3</th>\n",
       "      <td>Rv3290c</td>\n",
       "      <td>3.222583e-01</td>\n",
       "      <td>0.96172</td>\n",
       "      <td>True Negative</td>\n",
       "    </tr>\n",
       "    <tr>\n",
       "      <th>4</th>\n",
       "      <td>Rv2589</td>\n",
       "      <td>3.222583e-01</td>\n",
       "      <td>0.93677</td>\n",
       "      <td>True Negative</td>\n",
       "    </tr>\n",
       "  </tbody>\n",
       "</table>\n",
       "</div>"
      ],
      "text/plain": [
       "      Gene  KO Growth Rate  Griffin Essentiality P-Value      Error Type\n",
       "0   Rv1295   -1.461829e-16                       0.00001   True Positive\n",
       "1   Rv2573    1.071122e-14                       0.71349  False Positive\n",
       "2  Rv3815c   -9.302549e-17                       0.97648  False Positive\n",
       "3  Rv3290c    3.222583e-01                       0.96172   True Negative\n",
       "4   Rv2589    3.222583e-01                       0.93677   True Negative"
      ]
     },
     "execution_count": 119,
     "metadata": {},
     "output_type": "execute_result"
    }
   ],
   "source": [
    "gene_essential_dic = []\n",
    "for gene in model_iEK.genes:\n",
    "    g = str(gene)\n",
    "    if g in FN_dic.keys():\n",
    "        ko_growth_rate = FN_dic[g][0]\n",
    "        griff_p_val = FN_dic[g][1]\n",
    "        error_type = \"False Negative\"\n",
    "    if g in FP_dic.keys():\n",
    "        ko_growth_rate = FP_dic[g][0]\n",
    "        griff_p_val = FP_dic[g][1]\n",
    "        error_type = \"False Positive\"\n",
    "    if g in TN_dic.keys():\n",
    "        ko_growth_rate = TN_dic[g][0]\n",
    "        griff_p_val = TN_dic[g][1]\n",
    "        error_type = \"True Negative\"\n",
    "    if g in TP_dic.keys():\n",
    "        ko_growth_rate = TP_dic[g][0]\n",
    "        griff_p_val = TP_dic[g][1]\n",
    "        error_type = \"True Positive\"\n",
    "    gene_essential_dic.append({\"Gene\": g, \n",
    "                               \"KO Growth Rate\": ko_growth_rate, \n",
    "                               \"Griffin Essentiality P-Value\": griff_p_val,\n",
    "                               \"Error Type\": error_type\n",
    "                              })\n",
    "    \n",
    "gene_essen_df = pd.DataFrame(gene_essential_dic)\n",
    "gene_essen_df = gene_essen_df[[\"Gene\", \"KO Growth Rate\", \"Griffin Essentiality P-Value\", \"Error Type\"]]\n",
    "gene_essen_df.head()"
   ]
  },
  {
   "cell_type": "markdown",
   "metadata": {},
   "source": [
    "Prepare media conditions as JSON files."
   ]
  },
  {
   "cell_type": "code",
   "execution_count": 120,
   "metadata": {},
   "outputs": [
    {
     "data": {
      "text/html": [
       "<div>\n",
       "<style>\n",
       "    .dataframe thead tr:only-child th {\n",
       "        text-align: right;\n",
       "    }\n",
       "\n",
       "    .dataframe thead th {\n",
       "        text-align: left;\n",
       "    }\n",
       "\n",
       "    .dataframe tbody tr th {\n",
       "        vertical-align: top;\n",
       "    }\n",
       "</style>\n",
       "<table border=\"1\" class=\"dataframe\">\n",
       "  <thead>\n",
       "    <tr style=\"text-align: right;\">\n",
       "      <th></th>\n",
       "      <th>Middlebrook m7H10 (Acetate C-source)</th>\n",
       "      <th>Griffin Media (Gene Essentiality)</th>\n",
       "      <th>Lowenstein-Jensen Media (Drug-Testing)</th>\n",
       "      <th>Physiological Media (in vivo modeling)</th>\n",
       "    </tr>\n",
       "  </thead>\n",
       "  <tbody>\n",
       "    <tr>\n",
       "      <th>EX_ac</th>\n",
       "      <td>10.0</td>\n",
       "      <td>NaN</td>\n",
       "      <td>NaN</td>\n",
       "      <td>NaN</td>\n",
       "    </tr>\n",
       "    <tr>\n",
       "      <th>EX_ala_L</th>\n",
       "      <td>NaN</td>\n",
       "      <td>NaN</td>\n",
       "      <td>NaN</td>\n",
       "      <td>1.0</td>\n",
       "    </tr>\n",
       "    <tr>\n",
       "      <th>EX_asn_L</th>\n",
       "      <td>NaN</td>\n",
       "      <td>1.0</td>\n",
       "      <td>1.0</td>\n",
       "      <td>5.0</td>\n",
       "    </tr>\n",
       "    <tr>\n",
       "      <th>EX_asp_L</th>\n",
       "      <td>NaN</td>\n",
       "      <td>NaN</td>\n",
       "      <td>NaN</td>\n",
       "      <td>5.0</td>\n",
       "    </tr>\n",
       "    <tr>\n",
       "      <th>EX_btn</th>\n",
       "      <td>1.0</td>\n",
       "      <td>NaN</td>\n",
       "      <td>NaN</td>\n",
       "      <td>NaN</td>\n",
       "    </tr>\n",
       "  </tbody>\n",
       "</table>\n",
       "</div>"
      ],
      "text/plain": [
       "          Middlebrook m7H10 (Acetate C-source)  \\\n",
       "EX_ac                                     10.0   \n",
       "EX_ala_L                                   NaN   \n",
       "EX_asn_L                                   NaN   \n",
       "EX_asp_L                                   NaN   \n",
       "EX_btn                                     1.0   \n",
       "\n",
       "          Griffin Media (Gene Essentiality)  \\\n",
       "EX_ac                                   NaN   \n",
       "EX_ala_L                                NaN   \n",
       "EX_asn_L                                1.0   \n",
       "EX_asp_L                                NaN   \n",
       "EX_btn                                  NaN   \n",
       "\n",
       "          Lowenstein-Jensen Media (Drug-Testing)  \\\n",
       "EX_ac                                        NaN   \n",
       "EX_ala_L                                     NaN   \n",
       "EX_asn_L                                     1.0   \n",
       "EX_asp_L                                     NaN   \n",
       "EX_btn                                       NaN   \n",
       "\n",
       "          Physiological Media (in vivo modeling)  \n",
       "EX_ac                                        NaN  \n",
       "EX_ala_L                                     1.0  \n",
       "EX_asn_L                                     5.0  \n",
       "EX_asp_L                                     5.0  \n",
       "EX_btn                                       NaN  "
      ]
     },
     "execution_count": 120,
     "metadata": {},
     "output_type": "execute_result"
    }
   ],
   "source": [
    "media_conditions = [model_iEK.medium, griffin_media, inVitro_drugTesting, inVivo_conditions]\n",
    "media_df = pd.DataFrame(media_conditions)\n",
    "media_df = media_df.transpose()\n",
    "media_df.columns = [\"Middlebrook m7H10 (Acetate C-source)\", \n",
    "                    \"Griffin Media (Gene Essentiality)\", \n",
    "                    \"Lowenstein-Jensen Media (Drug-Testing)\", \n",
    "                    \"Physiological Media (in vivo modeling)\"]\n",
    "media_df.head()"
   ]
  },
  {
   "cell_type": "markdown",
   "metadata": {},
   "source": [
    "Write everything to excel file."
   ]
  },
  {
   "cell_type": "code",
   "execution_count": 121,
   "metadata": {
    "collapsed": true
   },
   "outputs": [],
   "source": [
    "writer = pd.ExcelWriter('iEK1020_supplementary.xlsx')\n",
    "react_df.to_excel(writer, sheet_name='Reactions', index=False)\n",
    "metab_df.to_excel(writer, sheet_name='Metabolites', index=False)\n",
    "gene_essen_df.to_excel(writer, sheet_name=\"Gene Essentiality\", index=False)\n",
    "media_df.to_excel(writer, sheet_name=\"Media Conditions\", index=False)\n",
    "writer.save()"
   ]
  },
  {
   "cell_type": "markdown",
   "metadata": {},
   "source": [
    "# The end."
   ]
  }
 ],
 "metadata": {
  "kernelspec": {
   "display_name": "Python 2",
   "language": "python",
   "name": "python2"
  },
  "language_info": {
   "codemirror_mode": {
    "name": "ipython",
    "version": 2
   },
   "file_extension": ".py",
   "mimetype": "text/x-python",
   "name": "python",
   "nbconvert_exporter": "python",
   "pygments_lexer": "ipython2",
   "version": "2.7.13"
  }
 },
 "nbformat": 4,
 "nbformat_minor": 2
}
